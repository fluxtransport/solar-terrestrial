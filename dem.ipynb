{
 "cells": [
  {
   "cell_type": "code",
   "execution_count": 1,
   "metadata": {},
   "outputs": [],
   "source": [
    "import numpy as np \n",
    "dim = [1024,1024]\n",
    "nchannels = 6\n",
    "nlgT = 20\n",
    "lgtaxis = np.arange(nlgT)*0.1 + 5.5\n",
    "\n",
    "file = 'synoptic_tolfunc_5.500_solution_2016-07-23T02-38.aia'\n",
    "fpr1 = np.memmap(file, dtype='float32', mode='r', shape=(nchannels,dim[1],dim[0]))\n",
    "# Make each pixel into a row\n",
    "X_train = (np.transpose(fpr1, [2,1,0])).reshape([dim[0]*dim[1],nchannels])\n",
    "X_train = np.sqrt(X_train)\n",
    "#fpr1.close()\n",
    "\n",
    "file = 'synoptic_tolfunc_5.500_solution_2016-07-23T02-38.emcube'\n",
    "fpr2 = np.memmap(file, dtype='float32', mode='r', shape=(nlgT,dim[1],dim[0]))\n",
    "y_train = (np.transpose(fpr2, [2,1,0])).reshape([dim[0]*dim[1],nlgT])\n",
    "#new_y = y_train[:,np.arange(nlgT/2,dtype=int)*2]+y_train[:,np.arange(nlgT/2,dtype=int)*2+1]\n",
    "#y_train = new_y #np.nan_to_num(np.log(new_y))\n",
    "\n",
    "#fpr2.close()\n",
    "\n",
    "file = 'synoptic_tolfunc_5.500_solution_2016-07-23T00-32.aia'\n",
    "fpr3 = np.memmap(file, dtype='float32', mode='r', shape=(nchannels,dim[1],dim[0]))\n",
    "# Make each pixel into a row\n",
    "X_test = (np.transpose(fpr3, [2,1,0])).reshape([dim[0]*dim[1],nchannels])\n",
    "X_test = np.sqrt(X_test)\n",
    "#fpr3.close()\n",
    "\n",
    "\n",
    "file = 'synoptic_tolfunc_5.500_solution_2016-07-23T00-32.emcube'\n",
    "fpr4 = np.memmap(file, dtype='float32', mode='r', shape=(nlgT,dim[1],dim[0]))\n",
    "y_test = (np.transpose(fpr4, [2,1,0])).reshape([dim[0]*dim[1],nlgT])\n",
    "#new_y = y_test[:,np.arange(nlgT/2,dtype=int)*2]+y_test[:,np.arange(nlgT/2,dtype=int)*2+1]\n",
    "#y_test = new_y #np.nan_to_num(np.log(new_y))\n",
    "\n",
    "#fpr4.close()\n",
    "\n",
    "X_units = np.zeros(nchannels)\n",
    "y_units = np.zeros(y_test.shape[1])\n",
    "#for c in range(nchannels):\n",
    "#    X_units[c] = np.mean(X_train[:,c])\n",
    "#    X_train[:,c] = X_train[:,c] / X_units[c]    \n",
    "#    X_test[:,c] = X_test[:,c] / X_units[c]\n",
    "#for c in range(nlgT):\n",
    "    #print(c,' ',y_units[c])\n",
    "#    y_units[c] = np.mean(y_train[:,c])\n",
    "#    y_train[:,c] = y_train[:,c] / y_units[c]    \n",
    "#    y_test[:,c] = y_test[:,c] / y_units[c]"
   ]
  },
  {
   "cell_type": "code",
   "execution_count": 2,
   "metadata": {},
   "outputs": [
    {
     "name": "stderr",
     "output_type": "stream",
     "text": [
      "Using TensorFlow backend.\n",
      "/home/mcheung/anaconda3/lib/python3.6/site-packages/ipykernel_launcher.py:12: UserWarning: Update your `Dense` call to the Keras 2 API: `Dense(12, input_dim=6, activation=\"relu\", kernel_initializer=\"RandomUniform\")`\n",
      "  if sys.path[0] == '':\n",
      "/home/mcheung/anaconda3/lib/python3.6/site-packages/ipykernel_launcher.py:14: UserWarning: Update your `Dense` call to the Keras 2 API: `Dense(24, activation=\"relu\", kernel_initializer=\"RandomUniform\")`\n",
      "  \n",
      "/home/mcheung/anaconda3/lib/python3.6/site-packages/ipykernel_launcher.py:17: UserWarning: Update your `Dense` call to the Keras 2 API: `Dense(40, activation=\"relu\", kernel_initializer=\"RandomUniform\")`\n",
      "/home/mcheung/anaconda3/lib/python3.6/site-packages/ipykernel_launcher.py:19: UserWarning: Update your `Dense` call to the Keras 2 API: `Dense(20, activation=\"relu\", kernel_initializer=\"RandomUniform\")`\n",
      "/home/mcheung/anaconda3/lib/python3.6/site-packages/ipykernel_launcher.py:21: UserWarning: Update your `Dense` call to the Keras 2 API: `Dense(20, activation=\"relu\", kernel_initializer=\"RandomUniform\")`\n"
     ]
    }
   ],
   "source": [
    "from keras.models import Sequential\n",
    "from keras.layers import Dense\n",
    "from keras.layers import LSTM\n",
    "from keras.layers import Dropout\n",
    "from keras import losses\n",
    "\n",
    "# create model\n",
    "model = Sequential()\n",
    "#model.add(Dense(96, input_dim=X_train.shape[1], init='uniform', activation='relu'))\n",
    "#model.add(Dropout(0.10))\n",
    "activation = 'relu'\n",
    "model.add(Dense(X_train.shape[1]*2, input_dim=X_train.shape[1], init='RandomUniform', activation=activation))\n",
    "#model.add(Dropout(0.10))\n",
    "model.add(Dense(X_train.shape[1]*4,  init='RandomUniform', activation=activation))\n",
    "#model.add(Dropout(0.10))\n",
    "#model.add(Dense(X_train.shape[1]*6,  init='RandomUniform', activation=activation))\n",
    "model.add(Dense(y_train.shape[1]*2, init='RandomUniform', activation=activation))\n",
    "#model.add(Dropout(0.10))\n",
    "model.add(Dense(y_train.shape[1], init='RandomUniform', activation=activation))\n",
    "#model.add(Dropout(0.10))\n",
    "model.add(Dense(y_train.shape[1], init='RandomUniform', activation=activation))\n",
    "# Compile model\n",
    "model.compile(loss='mean_squared_error', optimizer='adam')#, metrics=['mean_squared_error'])\n"
   ]
  },
  {
   "cell_type": "code",
   "execution_count": 3,
   "metadata": {},
   "outputs": [
    {
     "name": "stdout",
     "output_type": "stream",
     "text": [
      "Train on 314572 samples, validate on 734004 samples\n",
      "Epoch 1/20\n",
      "3s - loss: 0.0805 - val_loss: 0.0846\n",
      "Epoch 2/20\n",
      "1s - loss: 0.0687 - val_loss: 0.0793\n",
      "Epoch 3/20\n",
      "1s - loss: 0.0672 - val_loss: 0.0802\n",
      "Epoch 4/20\n",
      "1s - loss: 0.0669 - val_loss: 0.0796\n",
      "Epoch 5/20\n",
      "1s - loss: 0.0667 - val_loss: 0.0798\n",
      "Epoch 6/20\n",
      "1s - loss: 0.0666 - val_loss: 0.0798\n",
      "Epoch 7/20\n",
      "1s - loss: 0.0621 - val_loss: 0.0722\n",
      "Epoch 8/20\n",
      "1s - loss: 0.0601 - val_loss: 0.0717\n",
      "Epoch 9/20\n",
      "1s - loss: 0.0599 - val_loss: 0.0722\n",
      "Epoch 10/20\n",
      "1s - loss: 0.0597 - val_loss: 0.0725\n",
      "Epoch 11/20\n",
      "1s - loss: 0.0595 - val_loss: 0.0725\n",
      "Epoch 12/20\n",
      "1s - loss: 0.0594 - val_loss: 0.0729\n",
      "Epoch 13/20\n",
      "1s - loss: 0.0593 - val_loss: 0.0730\n",
      "Epoch 14/20\n",
      "1s - loss: 0.0592 - val_loss: 0.0729\n",
      "Epoch 15/20\n",
      "1s - loss: 0.0591 - val_loss: 0.0724\n",
      "Epoch 16/20\n",
      "1s - loss: 0.0591 - val_loss: 0.0727\n",
      "Epoch 17/20\n",
      "1s - loss: 0.0590 - val_loss: 0.0726\n",
      "Epoch 18/20\n",
      "1s - loss: 0.0590 - val_loss: 0.0728\n",
      "Epoch 19/20\n",
      "1s - loss: 0.0589 - val_loss: 0.0726\n",
      "Epoch 20/20\n",
      "1s - loss: 0.0589 - val_loss: 0.0724\n"
     ]
    },
    {
     "data": {
      "text/plain": [
       "<keras.callbacks.History at 0x7f95655a1860>"
      ]
     },
     "execution_count": 3,
     "metadata": {},
     "output_type": "execute_result"
    }
   ],
   "source": [
    "model.fit(X_train, y_train, epochs=20, batch_size=1024,  verbose=2, validation_split=0.7)"
   ]
  },
  {
   "cell_type": "code",
   "execution_count": 4,
   "metadata": {},
   "outputs": [],
   "source": [
    "y_pred = model.predict(X_test)"
   ]
  },
  {
   "cell_type": "code",
   "execution_count": 5,
   "metadata": {
    "collapsed": true
   },
   "outputs": [],
   "source": [
    "%matplotlib inline\n",
    "import matplotlib.pyplot as plt"
   ]
  },
  {
   "cell_type": "code",
   "execution_count": null,
   "metadata": {
    "scrolled": false
   },
   "outputs": [
    {
     "name": "stdout",
     "output_type": "stream",
     "text": [
      "5.02145\n",
      "2.96585\n"
     ]
    }
   ],
   "source": [
    "em_pred = y_pred.reshape([dim[0],dim[1],y_test.shape[1]])\n",
    "em = y_test.reshape([dim[0],dim[1],y_test.shape[1]])\n",
    "print(em_pred[:,:,:].max())\n",
    "print(em.max())\n",
    "lgtaxis = np.arange(nlgT)*0.1 + 5.5\n",
    "\n",
    "directory = './compare_DEMs/'\n",
    "cmap = 'inferno'\n",
    "for c in np.arange(y_test.shape[0],dtype=int):\n",
    "    plt.figure(1,figsize=(40,20))                # the first figure\n",
    "    plt.subplot(121)             # the first subplot in the first figure\n",
    "    plt.imshow(em_pred[:,:,c].T,cmap=cmap,vmin=em_pred[:,:,c].max()*0.05,vmax=em_pred[:,:,c].max()*0.5,origin='lower',interpolation='nearest')\n",
    "    plt.title('Emission Measure at T = {0:.1f} Million Kelvin (Fully Connected)'.format((10.**lgtaxis[c])/1e6), fontsize=20)\n",
    "    plt.subplot(122)             # the second subplot in the first figure\n",
    "    plt.imshow(em[:,:,c].T,cmap=cmap,vmin=em_pred[:,:,c].max()*0.05,vmax=em_pred[:,:,c].max()*0.5,origin='lower',interpolation='nearest')\n",
    "    plt.title('Emission Measure (Basis Pursuit, Cheung et al. 2015)'.format((10.**lgtaxis[c])/1e6), fontsize=20)\n",
    "    #plt.show()\n",
    "    plt.savefig(\"{0}/DEM_logTbin{1:02d}.jpg\".format(directory,c))\n",
    "#plt.imshow(np.concatenate([em[:,:,c],em_pred[:,:,c]]))"
   ]
  },
  {
   "cell_type": "code",
   "execution_count": 31,
   "metadata": {},
   "outputs": [
    {
     "data": {
      "text/plain": [
       "array([ 0,  1,  2,  3,  4,  5,  6,  7,  8,  9, 10, 11, 12, 13, 14, 15, 16,\n",
       "       17, 18, 19])"
      ]
     },
     "execution_count": 31,
     "metadata": {},
     "output_type": "execute_result"
    }
   ],
   "source": [
    "np.arange(y_test.shape[1])"
   ]
  },
  {
   "cell_type": "code",
   "execution_count": null,
   "metadata": {
    "collapsed": true
   },
   "outputs": [],
   "source": []
  }
 ],
 "metadata": {
  "kernelspec": {
   "display_name": "Python 3",
   "language": "python",
   "name": "python3"
  },
  "language_info": {
   "codemirror_mode": {
    "name": "ipython",
    "version": 3
   },
   "file_extension": ".py",
   "mimetype": "text/x-python",
   "name": "python",
   "nbconvert_exporter": "python",
   "pygments_lexer": "ipython3",
   "version": "3.6.1"
  }
 },
 "nbformat": 4,
 "nbformat_minor": 2
}
